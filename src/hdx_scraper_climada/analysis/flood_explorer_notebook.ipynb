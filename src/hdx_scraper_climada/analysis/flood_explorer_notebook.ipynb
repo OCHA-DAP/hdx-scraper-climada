{
 "cells": [
  {
   "cell_type": "markdown",
   "metadata": {},
   "source": [
    "# Flood\n",
    "2024-02-01\n",
    "\n",
    "This is an example analysis of the Flood data for Haiti\n"
   ]
  },
  {
   "cell_type": "code",
   "execution_count": 2,
   "metadata": {},
   "outputs": [],
   "source": [
    "import datetime as dt\n",
    "import statistics\n",
    "import pandas as pd\n",
    "from climada.util.api_client import Client\n",
    "\n",
    "client = Client()"
   ]
  },
  {
   "cell_type": "code",
   "execution_count": null,
   "metadata": {},
   "outputs": [],
   "source": [
    "flood = client.get_hazard(\"flood\", properties={\n",
    "                        \"country_iso3alpha\": \"AFG\",\n",
    "                    })\n",
    "floods = []\n",
    "for i, event_intensity in enumerate(flood.intensity):\n",
    "    total_intensity = max(event_intensity.toarray().flatten())\n",
    "    if total_intensity > 0.0:\n",
    "        event_date = dt.datetime.fromordinal(flood.date[i]).isoformat()[0:10]\n",
    "        print(event_date, total_intensity)\n",
    "        floods.append([event_date, total_intensity])\n",
    "earthquake_dt = pd.DataFrame(floods)\n",
    "earthquake_dt.columns= [\"date\", \"total intensity\"]\n",
    "earthquake_dt.plot(y=\"total intensity\",x=\"date\", kind=\"bar\")\n",
    "print(f\"Number of floods:{len(floods)}\", flush=True)\n",
    "average_max_intensity = statistics.mean([x[1] for x in floods]) \n",
    "overall_max_intensity = max([x[1] for x in floods])\n",
    "print(f\"Average max intensity: {round(average_max_intensity,2)}\", flush=True)\n",
    "print(f\"Overall max intensity: {round(overall_max_intensity,2)}\", flush=True)\n",
    "flood.plot_intensity(0)"
   ]
  },
  {
   "cell_type": "code",
   "execution_count": 4,
   "metadata": {},
   "outputs": [],
   "source": [
    "import math\n",
    "def calc_zoom(df):\n",
    "  width_y = max(df[\"latitude\"]) - min(df[\"latitude\"])\n",
    "  width_x = max(df[\"longitude\"]) - min(df[\"longitude\"])\n",
    "  zoom_y = -1.446*math.log(width_y) + 7.2753\n",
    "  zoom_x = -1.415*math.log(width_x) + 8.7068\n",
    "  return min(round(zoom_y,2),round(zoom_x,2))"
   ]
  },
  {
   "cell_type": "code",
   "execution_count": null,
   "metadata": {},
   "outputs": [],
   "source": [
    "from hdx_scraper_climada.utilities import read_countries\n",
    "countries = read_countries()\n",
    "\n",
    "for country in countries:\n",
    "    # if country[\"iso3alpha_country_code\"] in [\"BFA\", \"CMR\", \"COL\", \"COD\"]:\n",
    "    #     print(f\"Skipping {country['iso3alpha_country_code']} because there is no data\")\n",
    "    #     continue\n",
    "    print(country[\"iso3alpha_country_code\"], flush=True)\n",
    "    try:\n",
    "        flood = client.get_hazard(\"flood\", properties={\n",
    "                            \"country_iso3alpha\": country[\"iso3alpha_country_code\"],\n",
    "                        })\n",
    "        print(country[\"iso3alpha_country_code\"], len(flood.date), flush=True)\n",
    "    except Exception as e:\n",
    "        print(e, flush=True)\n",
    "        print(f\"No data for {country['iso3alpha_country_code']}\", flush=True)\n",
    "    \n",
    "    "
   ]
  },
  {
   "cell_type": "code",
   "execution_count": 11,
   "metadata": {},
   "outputs": [],
   "source": [
    "from pathlib import Path\n",
    "Client.purge_cache_db(Path('C:\\\\Users\\\\ianho\\\\climada\\\\data\\\\hazard\\\\flood\\\\flood_NER\\\\v1\\\\flood_NER.hdf5'))\n",
    "flood = client.get_hazard(\"flood\", properties={\n",
    "                            \"country_iso3alpha\": \"NER\",\n",
    "                        })"
   ]
  }
 ],
 "metadata": {
  "kernelspec": {
   "display_name": "venv",
   "language": "python",
   "name": "python3"
  },
  "language_info": {
   "codemirror_mode": {
    "name": "ipython",
    "version": 3
   },
   "file_extension": ".py",
   "mimetype": "text/x-python",
   "name": "python",
   "nbconvert_exporter": "python",
   "pygments_lexer": "ipython3",
   "version": "3.11.3"
  }
 },
 "nbformat": 4,
 "nbformat_minor": 2
}
