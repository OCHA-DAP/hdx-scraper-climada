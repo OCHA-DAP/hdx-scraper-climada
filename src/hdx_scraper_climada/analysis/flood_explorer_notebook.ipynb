{
 "cells": [
  {
   "cell_type": "markdown",
   "metadata": {},
   "source": [
    "# Flood\n",
    "2024-02-01\n",
    "\n",
    "This is an example analysis of the Flood data for Haiti\n"
   ]
  },
  {
   "cell_type": "code",
   "execution_count": 2,
   "metadata": {},
   "outputs": [],
   "source": [
    "import datetime as dt\n",
    "import statistics\n",
    "import pandas as pd\n",
    "from climada.util.api_client import Client\n",
    "\n",
    "client = Client()"
   ]
  },
  {
   "cell_type": "code",
   "execution_count": 4,
   "metadata": {},
   "outputs": [
    {
     "name": "stdout",
     "output_type": "stream",
     "text": [
      "2013-08-01 1.0\n",
      "2014-09-01 1.0\n",
      "2015-07-15 1.0\n",
      "2007-04-17 1.0\n",
      "2005-06-21 1.0\n",
      "2005-03-20 1.0\n",
      "2010-06-22 1.0\n",
      "2007-04-23 1.0\n",
      "2005-07-05 1.0\n",
      "2003-07-15 1.0\n",
      "2003-02-16 1.0\n",
      "2013-08-07 1.0\n",
      "2016-03-12 1.0\n",
      "2012-08-23 1.0\n",
      "2010-07-27 1.0\n",
      "2007-08-12 1.0\n",
      "2008-08-09 1.0\n",
      "2006-07-24 1.0\n",
      "2006-08-31 1.0\n",
      "2005-03-05 1.0\n",
      "2007-06-16 1.0\n",
      "2006-11-19 1.0\n",
      "2007-06-24 1.0\n",
      "2010-05-04 1.0\n",
      "2007-06-28 1.0\n",
      "Number of floods:25\n",
      "Average max intensity: 1.0\n",
      "Overall max intensity: 1.0\n"
     ]
    }
   ],
   "source": [
    "flood = client.get_hazard(\"flood\", properties={\n",
    "                        \"country_iso3alpha\": \"AFG\",\n",
    "                    })\n",
    "floods = []\n",
    "for i, event_intensity in enumerate(flood.intensity):\n",
    "    total_intensity = max(event_intensity.toarray().flatten())\n",
    "    if total_intensity > 0.0:\n",
    "        event_date = dt.datetime.fromordinal(flood.date[i]).isoformat()[0:10]\n",
    "        print(event_date, total_intensity)\n",
    "        floods.append([event_date, total_intensity])\n",
    "earthquake_dt = pd.DataFrame(floods)\n",
    "earthquake_dt.columns= [\"date\", \"total intensity\"]\n",
    "earthquake_dt.plot(y=\"total intensity\",x=\"date\", kind=\"bar\")\n",
    "print(f\"Number of floods:{len(floods)}\", flush=True)\n",
    "average_max_intensity = statistics.mean([x[1] for x in floods]) \n",
    "overall_max_intensity = max([x[1] for x in floods])\n",
    "print(f\"Average max intensity: {round(average_max_intensity,2)}\", flush=True)\n",
    "print(f\"Overall max intensity: {round(overall_max_intensity,2)}\", flush=True)\n",
    "flood.plot_intensity(0)"
   ]
  },
  {
   "cell_type": "code",
   "execution_count": 4,
   "metadata": {},
   "outputs": [],
   "source": [
    "import math\n",
    "def calc_zoom(df):\n",
    "  width_y = max(df[\"latitude\"]) - min(df[\"latitude\"])\n",
    "  width_x = max(df[\"longitude\"]) - min(df[\"longitude\"])\n",
    "  zoom_y = -1.446*math.log(width_y) + 7.2753\n",
    "  zoom_x = -1.415*math.log(width_x) + 8.7068\n",
    "  return min(round(zoom_y,2),round(zoom_x,2))"
   ]
  },
  {
   "cell_type": "code",
   "execution_count": 5,
   "metadata": {},
   "outputs": [
    {
     "name": "stdout",
     "output_type": "stream",
     "text": [
      "AFG\n",
      "AFG 25\n",
      "BFA\n",
      "there is no dataset meeting the requirements, the following property values are available for flood: {'res_meter': ['250'], 'spatial_coverage': ['country'], 'year_range': ['2002_2019'], 'country_iso3alpha': ['AFG', 'AGO', 'ALB', 'AND', 'ARE', 'ARG', 'ARM', 'AUS', 'MOZ', 'ATG', 'AUT', 'AZE', 'BDI', 'BEN', 'BGD', 'BGR', 'BHR', 'BHS', 'BIH', 'BLR', 'BLZ', 'BOL', 'BRA', 'BRN', 'BTN', 'BWA', 'CAF', 'CAN', 'CHE', 'CHL', 'CHN', 'CMR', 'COD', 'COG', 'COL', 'CRI', 'CUB', 'CYP', 'CZE', 'DEU', 'DJI', 'DMA', 'DNK', 'DOM', 'DZA', 'ECU', 'EGY', 'ERI', 'ESP', 'EST', 'ETH', 'FIN', 'FJI', 'FRA', 'GBR', 'GEO', 'GHA', 'GIN', 'GMB', 'GNB', 'GRC', 'GTM', 'GUY', 'HKG', 'HND', 'HRV', 'HTI', 'HUN', 'IDN', 'IMN', 'IND', 'IRL', 'IRN', 'IRQ', 'ISR', 'ITA', 'JAM', 'JOR', 'JPN', 'KAZ', 'KEN', 'KGZ', 'KHM', 'KOR', 'KWT', 'LAO', 'LBN', 'LBR', 'LKA', 'LSO', 'LTU', 'LUX', 'LVA', 'MAC', 'MAR', 'MDA', 'MDG', 'MEX', 'MKD', 'MLI', 'MMR', 'MNG', 'MRT', 'MWI', 'MYS', 'NAM', 'NER', 'NGA', 'NIC', 'NLD', 'NPL', 'NZL', 'OMN', 'PAK', 'PAN', 'PER', 'PHL', 'PNG', 'POL', 'PRI', 'PRK', 'PRT', 'PRY', 'QAT', 'ROU', 'RWA', 'SAU', 'SDN', 'SEN', 'SGP', 'SLE', 'SLV', 'SMR', 'SOM', 'SRB', 'SUR', 'SVK', 'SVN', 'SWZ', 'SYR', 'TCA', 'TCD', 'TGO', 'THA', 'TJK', 'TKM', 'TUN', 'TUR', 'TWN', 'TZA', 'UGA', 'UKR', 'URY', 'UZB', 'VEN', 'VNM', 'YEM', 'ZAF', 'ZMB', 'ZWE', 'RUS', 'USA'], 'country_name': ['Afghanistan', 'Angola', 'Albania', 'Andorra', 'United Arab Emirates', 'Argentina', 'Armenia', 'Australia', 'Mozambique', 'Antigua and Barbuda', 'Austria', 'Azerbaijan', 'Burundi', 'Benin', 'Bangladesh', 'Bulgaria', 'Bahrain', 'Bahamas', 'Bosnia and Herzegovina', 'Belarus', 'Belize', 'Bolivia, Plurinational State of', 'Brazil', 'Brunei Darussalam', 'Bhutan', 'Botswana', 'Central African Republic', 'Canada', 'Switzerland', 'Chile', 'China', 'Cameroon', 'Congo, The Democratic Republic of the', 'Congo', 'Colombia', 'Costa Rica', 'Cuba', 'Cyprus', 'Czechia', 'Germany', 'Djibouti', 'Dominica', 'Denmark', 'Dominican Republic', 'Algeria', 'Ecuador', 'Egypt', 'Eritrea', 'Spain', 'Estonia', 'Ethiopia', 'Finland', 'Fiji', 'France', 'United Kingdom', 'Georgia', 'Ghana', 'Guinea', 'Gambia', 'Guinea-Bissau', 'Greece', 'Guatemala', 'Guyana', 'Hong Kong', 'Honduras', 'Croatia', 'Haiti', 'Hungary', 'Indonesia', 'Isle of Man', 'India', 'Ireland', 'Iran, Islamic Republic of', 'Iraq', 'Israel', 'Italy', 'Jamaica', 'Jordan', 'Japan', 'Kazakhstan', 'Kenya', 'Kyrgyzstan', 'Cambodia', 'Korea, Republic of', 'Kuwait', \"Lao People's Democratic Republic\", 'Lebanon', 'Liberia', 'Sri Lanka', 'Lesotho', 'Lithuania', 'Luxembourg', 'Latvia', 'Macao', 'Morocco', 'Moldova, Republic of', 'Madagascar', 'Mexico', 'North Macedonia', 'Mali', 'Myanmar', 'Mongolia', 'Mauritania', 'Malawi', 'Malaysia', 'Namibia', 'Niger', 'Nigeria', 'Nicaragua', 'Netherlands', 'Nepal', 'New Zealand', 'Oman', 'Pakistan', 'Panama', 'Peru', 'Philippines', 'Papua New Guinea', 'Poland', 'Puerto Rico', \"Korea, Democratic People's Republic of\", 'Portugal', 'Paraguay', 'Qatar', 'Romania', 'Rwanda', 'Saudi Arabia', 'Sudan', 'Senegal', 'Singapore', 'Sierra Leone', 'El Salvador', 'San Marino', 'Somalia', 'Serbia', 'Suriname', 'Slovakia', 'Slovenia', 'Eswatini', 'Syrian Arab Republic', 'Turks and Caicos Islands', 'Chad', 'Togo', 'Thailand', 'Tajikistan', 'Turkmenistan', 'Tunisia', 'Turkey', 'Taiwan, Province of China', 'Tanzania, United Republic of', 'Uganda', 'Ukraine', 'Uruguay', 'Uzbekistan', 'Venezuela, Bolivarian Republic of', 'Viet Nam', 'Yemen', 'South Africa', 'Zambia', 'Zimbabwe', 'Russian Federation', 'United States'], 'country_iso3num': ['004', '024', '008', '020', '784', '032', '051', '036', '508', '028', '040', '031', '108', '204', '050', '100', '048', '044', '070', '112', '084', '068', '076', '096', '064', '072', '140', '124', '756', '152', '156', '120', '180', '178', '170', '188', '192', '196', '203', '276', '262', '212', '208', '214', '012', '218', '818', '232', '724', '233', '231', '246', '242', '250', '826', '268', '288', '324', '270', '624', '300', '320', '328', '344', '340', '191', '332', '348', '360', '833', '356', '372', '364', '368', '376', '380', '388', '400', '392', '398', '404', '417', '116', '410', '414', '418', '422', '430', '144', '426', '440', '442', '428', '446', '504', '498', '450', '484', '807', '466', '104', '496', '478', '454', '458', '516', '562', '566', '558', '528', '524', '554', '512', '586', '591', '604', '608', '598', '616', '630', '408', '620', '600', '634', '642', '646', '682', '729', '686', '702', '694', '222', '674', '706', '688', '740', '703', '705', '748', '760', '796', '148', '768', '764', '762', '795', '788', '792', '158', '834', '800', '804', '858', '860', '862', '704', '887', '710', '894', '716', '643', '840']}\n",
      "No data for BFA\n",
      "BDI\n",
      "BDI 15\n",
      "CMR\n",
      "'NoneType' object has no attribute 'items'\n",
      "No data for CMR\n",
      "CAF\n",
      "CAF 6\n",
      "TCD\n",
      "TCD 20\n",
      "COL\n",
      "2024-02-07 15:04:13,174 - climada.util.api_client - WARNING - Download failed: A download of https://data.iac.ethz.ch/climada/adc83e83-3371-4426-9305-df732dc07264/flood_COL.hdf5 via the API Client has been requested before. Either it is still in progress or the process got interrupted. In the former case just wait until the download has finished and try again, in the latter run `Client.purge_cache_db(Path('C:\\Users\\ianho\\climada\\data\\hazard\\flood\\flood_COL\\v1\\flood_COL.hdf5'))` from Python. If unsure, check your internet connection, wait for as long as it takes to download a file of size 1962828118 and try again. If the problem persists, purge the cache db with said call., retrying...\n",
      "2024-02-07 15:04:15,180 - climada.util.api_client - WARNING - Download failed: A download of https://data.iac.ethz.ch/climada/adc83e83-3371-4426-9305-df732dc07264/flood_COL.hdf5 via the API Client has been requested before. Either it is still in progress or the process got interrupted. In the former case just wait until the download has finished and try again, in the latter run `Client.purge_cache_db(Path('C:\\Users\\ianho\\climada\\data\\hazard\\flood\\flood_COL\\v1\\flood_COL.hdf5'))` from Python. If unsure, check your internet connection, wait for as long as it takes to download a file of size 1962828118 and try again. If the problem persists, purge the cache db with said call., retrying...\n",
      "2024-02-07 15:04:18,231 - climada.util.api_client - WARNING - Download failed: A download of https://data.iac.ethz.ch/climada/adc83e83-3371-4426-9305-df732dc07264/flood_COL.hdf5 via the API Client has been requested before. Either it is still in progress or the process got interrupted. In the former case just wait until the download has finished and try again, in the latter run `Client.purge_cache_db(Path('C:\\Users\\ianho\\climada\\data\\hazard\\flood\\flood_COL\\v1\\flood_COL.hdf5'))` from Python. If unsure, check your internet connection, wait for as long as it takes to download a file of size 1962828118 and try again. If the problem persists, purge the cache db with said call., retrying...\n",
      "A download of https://data.iac.ethz.ch/climada/adc83e83-3371-4426-9305-df732dc07264/flood_COL.hdf5 via the API Client has been requested before. Either it is still in progress or the process got interrupted. In the former case just wait until the download has finished and try again, in the latter run `Client.purge_cache_db(Path('C:\\Users\\ianho\\climada\\data\\hazard\\flood\\flood_COL\\v1\\flood_COL.hdf5'))` from Python. If unsure, check your internet connection, wait for as long as it takes to download a file of size 1962828118 and try again. If the problem persists, purge the cache db with said call.\n",
      "No data for COL\n",
      "COD\n",
      "2024-02-07 15:04:24,497 - climada.util.api_client - WARNING - Download failed: A download of https://data.iac.ethz.ch/climada/5b686905-ab4c-4bf9-bd65-ef78b73c8fc3/flood_COD.hdf5 via the API Client has been requested before. Either it is still in progress or the process got interrupted. In the former case just wait until the download has finished and try again, in the latter run `Client.purge_cache_db(Path('C:\\Users\\ianho\\climada\\data\\hazard\\flood\\flood_COD\\v1\\flood_COD.hdf5'))` from Python. If unsure, check your internet connection, wait for as long as it takes to download a file of size 2101201951 and try again. If the problem persists, purge the cache db with said call., retrying...\n",
      "2024-02-07 15:04:26,500 - climada.util.api_client - WARNING - Download failed: A download of https://data.iac.ethz.ch/climada/5b686905-ab4c-4bf9-bd65-ef78b73c8fc3/flood_COD.hdf5 via the API Client has been requested before. Either it is still in progress or the process got interrupted. In the former case just wait until the download has finished and try again, in the latter run `Client.purge_cache_db(Path('C:\\Users\\ianho\\climada\\data\\hazard\\flood\\flood_COD\\v1\\flood_COD.hdf5'))` from Python. If unsure, check your internet connection, wait for as long as it takes to download a file of size 2101201951 and try again. If the problem persists, purge the cache db with said call., retrying...\n",
      "2024-02-07 15:04:29,505 - climada.util.api_client - WARNING - Download failed: A download of https://data.iac.ethz.ch/climada/5b686905-ab4c-4bf9-bd65-ef78b73c8fc3/flood_COD.hdf5 via the API Client has been requested before. Either it is still in progress or the process got interrupted. In the former case just wait until the download has finished and try again, in the latter run `Client.purge_cache_db(Path('C:\\Users\\ianho\\climada\\data\\hazard\\flood\\flood_COD\\v1\\flood_COD.hdf5'))` from Python. If unsure, check your internet connection, wait for as long as it takes to download a file of size 2101201951 and try again. If the problem persists, purge the cache db with said call., retrying...\n",
      "A download of https://data.iac.ethz.ch/climada/5b686905-ab4c-4bf9-bd65-ef78b73c8fc3/flood_COD.hdf5 via the API Client has been requested before. Either it is still in progress or the process got interrupted. In the former case just wait until the download has finished and try again, in the latter run `Client.purge_cache_db(Path('C:\\Users\\ianho\\climada\\data\\hazard\\flood\\flood_COD\\v1\\flood_COD.hdf5'))` from Python. If unsure, check your internet connection, wait for as long as it takes to download a file of size 2101201951 and try again. If the problem persists, purge the cache db with said call.\n",
      "No data for COD\n",
      "ETH\n",
      "2024-02-07 15:04:35,801 - climada.util.api_client - WARNING - Download failed: A download of https://data.iac.ethz.ch/climada/5686ffd1-97db-48c8-8d9f-6120b1bea24b/flood_ETH.hdf5 via the API Client has been requested before. Either it is still in progress or the process got interrupted. In the former case just wait until the download has finished and try again, in the latter run `Client.purge_cache_db(Path('C:\\Users\\ianho\\climada\\data\\hazard\\flood\\flood_ETH\\v1\\flood_ETH.hdf5'))` from Python. If unsure, check your internet connection, wait for as long as it takes to download a file of size 714531316 and try again. If the problem persists, purge the cache db with said call., retrying...\n",
      "2024-02-07 15:04:37,807 - climada.util.api_client - WARNING - Download failed: A download of https://data.iac.ethz.ch/climada/5686ffd1-97db-48c8-8d9f-6120b1bea24b/flood_ETH.hdf5 via the API Client has been requested before. Either it is still in progress or the process got interrupted. In the former case just wait until the download has finished and try again, in the latter run `Client.purge_cache_db(Path('C:\\Users\\ianho\\climada\\data\\hazard\\flood\\flood_ETH\\v1\\flood_ETH.hdf5'))` from Python. If unsure, check your internet connection, wait for as long as it takes to download a file of size 714531316 and try again. If the problem persists, purge the cache db with said call., retrying...\n",
      "2024-02-07 15:04:40,809 - climada.util.api_client - WARNING - Download failed: A download of https://data.iac.ethz.ch/climada/5686ffd1-97db-48c8-8d9f-6120b1bea24b/flood_ETH.hdf5 via the API Client has been requested before. Either it is still in progress or the process got interrupted. In the former case just wait until the download has finished and try again, in the latter run `Client.purge_cache_db(Path('C:\\Users\\ianho\\climada\\data\\hazard\\flood\\flood_ETH\\v1\\flood_ETH.hdf5'))` from Python. If unsure, check your internet connection, wait for as long as it takes to download a file of size 714531316 and try again. If the problem persists, purge the cache db with said call., retrying...\n",
      "A download of https://data.iac.ethz.ch/climada/5686ffd1-97db-48c8-8d9f-6120b1bea24b/flood_ETH.hdf5 via the API Client has been requested before. Either it is still in progress or the process got interrupted. In the former case just wait until the download has finished and try again, in the latter run `Client.purge_cache_db(Path('C:\\Users\\ianho\\climada\\data\\hazard\\flood\\flood_ETH\\v1\\flood_ETH.hdf5'))` from Python. If unsure, check your internet connection, wait for as long as it takes to download a file of size 714531316 and try again. If the problem persists, purge the cache db with said call.\n",
      "No data for ETH\n",
      "HTI\n",
      "HTI 11\n",
      "MLI\n",
      "2024-02-07 15:04:47,483 - climada.util.api_client - WARNING - Download failed: A download of https://data.iac.ethz.ch/climada/8c13a016-4350-4511-bec8-3fb7b7e1cbc0/flood_MLI.hdf5 via the API Client has been requested before. Either it is still in progress or the process got interrupted. In the former case just wait until the download has finished and try again, in the latter run `Client.purge_cache_db(Path('C:\\Users\\ianho\\climada\\data\\hazard\\flood\\flood_MLI\\v1\\flood_MLI.hdf5'))` from Python. If unsure, check your internet connection, wait for as long as it takes to download a file of size 980457032 and try again. If the problem persists, purge the cache db with said call., retrying...\n",
      "2024-02-07 15:04:49,487 - climada.util.api_client - WARNING - Download failed: A download of https://data.iac.ethz.ch/climada/8c13a016-4350-4511-bec8-3fb7b7e1cbc0/flood_MLI.hdf5 via the API Client has been requested before. Either it is still in progress or the process got interrupted. In the former case just wait until the download has finished and try again, in the latter run `Client.purge_cache_db(Path('C:\\Users\\ianho\\climada\\data\\hazard\\flood\\flood_MLI\\v1\\flood_MLI.hdf5'))` from Python. If unsure, check your internet connection, wait for as long as it takes to download a file of size 980457032 and try again. If the problem persists, purge the cache db with said call., retrying...\n",
      "2024-02-07 15:04:52,490 - climada.util.api_client - WARNING - Download failed: A download of https://data.iac.ethz.ch/climada/8c13a016-4350-4511-bec8-3fb7b7e1cbc0/flood_MLI.hdf5 via the API Client has been requested before. Either it is still in progress or the process got interrupted. In the former case just wait until the download has finished and try again, in the latter run `Client.purge_cache_db(Path('C:\\Users\\ianho\\climada\\data\\hazard\\flood\\flood_MLI\\v1\\flood_MLI.hdf5'))` from Python. If unsure, check your internet connection, wait for as long as it takes to download a file of size 980457032 and try again. If the problem persists, purge the cache db with said call., retrying...\n",
      "A download of https://data.iac.ethz.ch/climada/8c13a016-4350-4511-bec8-3fb7b7e1cbc0/flood_MLI.hdf5 via the API Client has been requested before. Either it is still in progress or the process got interrupted. In the former case just wait until the download has finished and try again, in the latter run `Client.purge_cache_db(Path('C:\\Users\\ianho\\climada\\data\\hazard\\flood\\flood_MLI\\v1\\flood_MLI.hdf5'))` from Python. If unsure, check your internet connection, wait for as long as it takes to download a file of size 980457032 and try again. If the problem persists, purge the cache db with said call.\n",
      "No data for MLI\n",
      "MOZ\n",
      "2024-02-07 15:04:58,779 - climada.util.api_client - WARNING - Download failed: A download of https://data.iac.ethz.ch/climada/79e44ce6-85a1-4541-80fc-c90b220c1b63/flood_MOZ.hdf5 via the API Client has been requested before. Either it is still in progress or the process got interrupted. In the former case just wait until the download has finished and try again, in the latter run `Client.purge_cache_db(Path('C:\\Users\\ianho\\climada\\data\\hazard\\flood\\flood_MOZ\\v1\\flood_MOZ.hdf5'))` from Python. If unsure, check your internet connection, wait for as long as it takes to download a file of size 270395903 and try again. If the problem persists, purge the cache db with said call., retrying...\n",
      "2024-02-07 15:05:00,783 - climada.util.api_client - WARNING - Download failed: A download of https://data.iac.ethz.ch/climada/79e44ce6-85a1-4541-80fc-c90b220c1b63/flood_MOZ.hdf5 via the API Client has been requested before. Either it is still in progress or the process got interrupted. In the former case just wait until the download has finished and try again, in the latter run `Client.purge_cache_db(Path('C:\\Users\\ianho\\climada\\data\\hazard\\flood\\flood_MOZ\\v1\\flood_MOZ.hdf5'))` from Python. If unsure, check your internet connection, wait for as long as it takes to download a file of size 270395903 and try again. If the problem persists, purge the cache db with said call., retrying...\n",
      "2024-02-07 15:05:03,788 - climada.util.api_client - WARNING - Download failed: A download of https://data.iac.ethz.ch/climada/79e44ce6-85a1-4541-80fc-c90b220c1b63/flood_MOZ.hdf5 via the API Client has been requested before. Either it is still in progress or the process got interrupted. In the former case just wait until the download has finished and try again, in the latter run `Client.purge_cache_db(Path('C:\\Users\\ianho\\climada\\data\\hazard\\flood\\flood_MOZ\\v1\\flood_MOZ.hdf5'))` from Python. If unsure, check your internet connection, wait for as long as it takes to download a file of size 270395903 and try again. If the problem persists, purge the cache db with said call., retrying...\n",
      "A download of https://data.iac.ethz.ch/climada/79e44ce6-85a1-4541-80fc-c90b220c1b63/flood_MOZ.hdf5 via the API Client has been requested before. Either it is still in progress or the process got interrupted. In the former case just wait until the download has finished and try again, in the latter run `Client.purge_cache_db(Path('C:\\Users\\ianho\\climada\\data\\hazard\\flood\\flood_MOZ\\v1\\flood_MOZ.hdf5'))` from Python. If unsure, check your internet connection, wait for as long as it takes to download a file of size 270395903 and try again. If the problem persists, purge the cache db with said call.\n",
      "No data for MOZ\n",
      "MMR\n",
      "MMR 61\n",
      "NER\n",
      "2024-02-07 15:05:14,658 - climada.util.api_client - WARNING - Download failed: A download of https://data.iac.ethz.ch/climada/d9b22518-13fc-424b-89b1-98159465b4dc/flood_NER.hdf5 via the API Client has been requested before. Either it is still in progress or the process got interrupted. In the former case just wait until the download has finished and try again, in the latter run `Client.purge_cache_db(Path('C:\\Users\\ianho\\climada\\data\\hazard\\flood\\flood_NER\\v1\\flood_NER.hdf5'))` from Python. If unsure, check your internet connection, wait for as long as it takes to download a file of size 1304831089 and try again. If the problem persists, purge the cache db with said call., retrying...\n",
      "2024-02-07 15:05:16,663 - climada.util.api_client - WARNING - Download failed: A download of https://data.iac.ethz.ch/climada/d9b22518-13fc-424b-89b1-98159465b4dc/flood_NER.hdf5 via the API Client has been requested before. Either it is still in progress or the process got interrupted. In the former case just wait until the download has finished and try again, in the latter run `Client.purge_cache_db(Path('C:\\Users\\ianho\\climada\\data\\hazard\\flood\\flood_NER\\v1\\flood_NER.hdf5'))` from Python. If unsure, check your internet connection, wait for as long as it takes to download a file of size 1304831089 and try again. If the problem persists, purge the cache db with said call., retrying...\n",
      "2024-02-07 15:05:19,668 - climada.util.api_client - WARNING - Download failed: A download of https://data.iac.ethz.ch/climada/d9b22518-13fc-424b-89b1-98159465b4dc/flood_NER.hdf5 via the API Client has been requested before. Either it is still in progress or the process got interrupted. In the former case just wait until the download has finished and try again, in the latter run `Client.purge_cache_db(Path('C:\\Users\\ianho\\climada\\data\\hazard\\flood\\flood_NER\\v1\\flood_NER.hdf5'))` from Python. If unsure, check your internet connection, wait for as long as it takes to download a file of size 1304831089 and try again. If the problem persists, purge the cache db with said call., retrying...\n",
      "A download of https://data.iac.ethz.ch/climada/d9b22518-13fc-424b-89b1-98159465b4dc/flood_NER.hdf5 via the API Client has been requested before. Either it is still in progress or the process got interrupted. In the former case just wait until the download has finished and try again, in the latter run `Client.purge_cache_db(Path('C:\\Users\\ianho\\climada\\data\\hazard\\flood\\flood_NER\\v1\\flood_NER.hdf5'))` from Python. If unsure, check your internet connection, wait for as long as it takes to download a file of size 1304831089 and try again. If the problem persists, purge the cache db with said call.\n",
      "No data for NER\n",
      "NGA\n",
      "NGA 21\n",
      "SOM\n",
      "SOM 18\n",
      "SSD\n",
      "there is no dataset meeting the requirements, the following property values are available for flood: {'res_meter': ['250'], 'spatial_coverage': ['country'], 'year_range': ['2002_2019'], 'country_iso3alpha': ['AFG', 'AGO', 'ALB', 'AND', 'ARE', 'ARG', 'ARM', 'AUS', 'MOZ', 'ATG', 'AUT', 'AZE', 'BDI', 'BEN', 'BGD', 'BGR', 'BHR', 'BHS', 'BIH', 'BLR', 'BLZ', 'BOL', 'BRA', 'BRN', 'BTN', 'BWA', 'CAF', 'CAN', 'CHE', 'CHL', 'CHN', 'CMR', 'COD', 'COG', 'COL', 'CRI', 'CUB', 'CYP', 'CZE', 'DEU', 'DJI', 'DMA', 'DNK', 'DOM', 'DZA', 'ECU', 'EGY', 'ERI', 'ESP', 'EST', 'ETH', 'FIN', 'FJI', 'FRA', 'GBR', 'GEO', 'GHA', 'GIN', 'GMB', 'GNB', 'GRC', 'GTM', 'GUY', 'HKG', 'HND', 'HRV', 'HTI', 'HUN', 'IDN', 'IMN', 'IND', 'IRL', 'IRN', 'IRQ', 'ISR', 'ITA', 'JAM', 'JOR', 'JPN', 'KAZ', 'KEN', 'KGZ', 'KHM', 'KOR', 'KWT', 'LAO', 'LBN', 'LBR', 'LKA', 'LSO', 'LTU', 'LUX', 'LVA', 'MAC', 'MAR', 'MDA', 'MDG', 'MEX', 'MKD', 'MLI', 'MMR', 'MNG', 'MRT', 'MWI', 'MYS', 'NAM', 'NER', 'NGA', 'NIC', 'NLD', 'NPL', 'NZL', 'OMN', 'PAK', 'PAN', 'PER', 'PHL', 'PNG', 'POL', 'PRI', 'PRK', 'PRT', 'PRY', 'QAT', 'ROU', 'RWA', 'SAU', 'SDN', 'SEN', 'SGP', 'SLE', 'SLV', 'SMR', 'SOM', 'SRB', 'SUR', 'SVK', 'SVN', 'SWZ', 'SYR', 'TCA', 'TCD', 'TGO', 'THA', 'TJK', 'TKM', 'TUN', 'TUR', 'TWN', 'TZA', 'UGA', 'UKR', 'URY', 'UZB', 'VEN', 'VNM', 'YEM', 'ZAF', 'ZMB', 'ZWE', 'RUS', 'USA'], 'country_name': ['Afghanistan', 'Angola', 'Albania', 'Andorra', 'United Arab Emirates', 'Argentina', 'Armenia', 'Australia', 'Mozambique', 'Antigua and Barbuda', 'Austria', 'Azerbaijan', 'Burundi', 'Benin', 'Bangladesh', 'Bulgaria', 'Bahrain', 'Bahamas', 'Bosnia and Herzegovina', 'Belarus', 'Belize', 'Bolivia, Plurinational State of', 'Brazil', 'Brunei Darussalam', 'Bhutan', 'Botswana', 'Central African Republic', 'Canada', 'Switzerland', 'Chile', 'China', 'Cameroon', 'Congo, The Democratic Republic of the', 'Congo', 'Colombia', 'Costa Rica', 'Cuba', 'Cyprus', 'Czechia', 'Germany', 'Djibouti', 'Dominica', 'Denmark', 'Dominican Republic', 'Algeria', 'Ecuador', 'Egypt', 'Eritrea', 'Spain', 'Estonia', 'Ethiopia', 'Finland', 'Fiji', 'France', 'United Kingdom', 'Georgia', 'Ghana', 'Guinea', 'Gambia', 'Guinea-Bissau', 'Greece', 'Guatemala', 'Guyana', 'Hong Kong', 'Honduras', 'Croatia', 'Haiti', 'Hungary', 'Indonesia', 'Isle of Man', 'India', 'Ireland', 'Iran, Islamic Republic of', 'Iraq', 'Israel', 'Italy', 'Jamaica', 'Jordan', 'Japan', 'Kazakhstan', 'Kenya', 'Kyrgyzstan', 'Cambodia', 'Korea, Republic of', 'Kuwait', \"Lao People's Democratic Republic\", 'Lebanon', 'Liberia', 'Sri Lanka', 'Lesotho', 'Lithuania', 'Luxembourg', 'Latvia', 'Macao', 'Morocco', 'Moldova, Republic of', 'Madagascar', 'Mexico', 'North Macedonia', 'Mali', 'Myanmar', 'Mongolia', 'Mauritania', 'Malawi', 'Malaysia', 'Namibia', 'Niger', 'Nigeria', 'Nicaragua', 'Netherlands', 'Nepal', 'New Zealand', 'Oman', 'Pakistan', 'Panama', 'Peru', 'Philippines', 'Papua New Guinea', 'Poland', 'Puerto Rico', \"Korea, Democratic People's Republic of\", 'Portugal', 'Paraguay', 'Qatar', 'Romania', 'Rwanda', 'Saudi Arabia', 'Sudan', 'Senegal', 'Singapore', 'Sierra Leone', 'El Salvador', 'San Marino', 'Somalia', 'Serbia', 'Suriname', 'Slovakia', 'Slovenia', 'Eswatini', 'Syrian Arab Republic', 'Turks and Caicos Islands', 'Chad', 'Togo', 'Thailand', 'Tajikistan', 'Turkmenistan', 'Tunisia', 'Turkey', 'Taiwan, Province of China', 'Tanzania, United Republic of', 'Uganda', 'Ukraine', 'Uruguay', 'Uzbekistan', 'Venezuela, Bolivarian Republic of', 'Viet Nam', 'Yemen', 'South Africa', 'Zambia', 'Zimbabwe', 'Russian Federation', 'United States'], 'country_iso3num': ['004', '024', '008', '020', '784', '032', '051', '036', '508', '028', '040', '031', '108', '204', '050', '100', '048', '044', '070', '112', '084', '068', '076', '096', '064', '072', '140', '124', '756', '152', '156', '120', '180', '178', '170', '188', '192', '196', '203', '276', '262', '212', '208', '214', '012', '218', '818', '232', '724', '233', '231', '246', '242', '250', '826', '268', '288', '324', '270', '624', '300', '320', '328', '344', '340', '191', '332', '348', '360', '833', '356', '372', '364', '368', '376', '380', '388', '400', '392', '398', '404', '417', '116', '410', '414', '418', '422', '430', '144', '426', '440', '442', '428', '446', '504', '498', '450', '484', '807', '466', '104', '496', '478', '454', '458', '516', '562', '566', '558', '528', '524', '554', '512', '586', '591', '604', '608', '598', '616', '630', '408', '620', '600', '634', '642', '646', '682', '729', '686', '702', '694', '222', '674', '706', '688', '740', '703', '705', '748', '760', '796', '148', '768', '764', '762', '795', '788', '792', '158', '834', '800', '804', '858', '860', '862', '704', '887', '710', '894', '716', '643', '840']}\n",
      "No data for SSD\n",
      "PSE\n",
      "there is no dataset meeting the requirements, the following property values are available for flood: {'res_meter': ['250'], 'spatial_coverage': ['country'], 'year_range': ['2002_2019'], 'country_iso3alpha': ['AFG', 'AGO', 'ALB', 'AND', 'ARE', 'ARG', 'ARM', 'AUS', 'MOZ', 'ATG', 'AUT', 'AZE', 'BDI', 'BEN', 'BGD', 'BGR', 'BHR', 'BHS', 'BIH', 'BLR', 'BLZ', 'BOL', 'BRA', 'BRN', 'BTN', 'BWA', 'CAF', 'CAN', 'CHE', 'CHL', 'CHN', 'CMR', 'COD', 'COG', 'COL', 'CRI', 'CUB', 'CYP', 'CZE', 'DEU', 'DJI', 'DMA', 'DNK', 'DOM', 'DZA', 'ECU', 'EGY', 'ERI', 'ESP', 'EST', 'ETH', 'FIN', 'FJI', 'FRA', 'GBR', 'GEO', 'GHA', 'GIN', 'GMB', 'GNB', 'GRC', 'GTM', 'GUY', 'HKG', 'HND', 'HRV', 'HTI', 'HUN', 'IDN', 'IMN', 'IND', 'IRL', 'IRN', 'IRQ', 'ISR', 'ITA', 'JAM', 'JOR', 'JPN', 'KAZ', 'KEN', 'KGZ', 'KHM', 'KOR', 'KWT', 'LAO', 'LBN', 'LBR', 'LKA', 'LSO', 'LTU', 'LUX', 'LVA', 'MAC', 'MAR', 'MDA', 'MDG', 'MEX', 'MKD', 'MLI', 'MMR', 'MNG', 'MRT', 'MWI', 'MYS', 'NAM', 'NER', 'NGA', 'NIC', 'NLD', 'NPL', 'NZL', 'OMN', 'PAK', 'PAN', 'PER', 'PHL', 'PNG', 'POL', 'PRI', 'PRK', 'PRT', 'PRY', 'QAT', 'ROU', 'RWA', 'SAU', 'SDN', 'SEN', 'SGP', 'SLE', 'SLV', 'SMR', 'SOM', 'SRB', 'SUR', 'SVK', 'SVN', 'SWZ', 'SYR', 'TCA', 'TCD', 'TGO', 'THA', 'TJK', 'TKM', 'TUN', 'TUR', 'TWN', 'TZA', 'UGA', 'UKR', 'URY', 'UZB', 'VEN', 'VNM', 'YEM', 'ZAF', 'ZMB', 'ZWE', 'RUS', 'USA'], 'country_name': ['Afghanistan', 'Angola', 'Albania', 'Andorra', 'United Arab Emirates', 'Argentina', 'Armenia', 'Australia', 'Mozambique', 'Antigua and Barbuda', 'Austria', 'Azerbaijan', 'Burundi', 'Benin', 'Bangladesh', 'Bulgaria', 'Bahrain', 'Bahamas', 'Bosnia and Herzegovina', 'Belarus', 'Belize', 'Bolivia, Plurinational State of', 'Brazil', 'Brunei Darussalam', 'Bhutan', 'Botswana', 'Central African Republic', 'Canada', 'Switzerland', 'Chile', 'China', 'Cameroon', 'Congo, The Democratic Republic of the', 'Congo', 'Colombia', 'Costa Rica', 'Cuba', 'Cyprus', 'Czechia', 'Germany', 'Djibouti', 'Dominica', 'Denmark', 'Dominican Republic', 'Algeria', 'Ecuador', 'Egypt', 'Eritrea', 'Spain', 'Estonia', 'Ethiopia', 'Finland', 'Fiji', 'France', 'United Kingdom', 'Georgia', 'Ghana', 'Guinea', 'Gambia', 'Guinea-Bissau', 'Greece', 'Guatemala', 'Guyana', 'Hong Kong', 'Honduras', 'Croatia', 'Haiti', 'Hungary', 'Indonesia', 'Isle of Man', 'India', 'Ireland', 'Iran, Islamic Republic of', 'Iraq', 'Israel', 'Italy', 'Jamaica', 'Jordan', 'Japan', 'Kazakhstan', 'Kenya', 'Kyrgyzstan', 'Cambodia', 'Korea, Republic of', 'Kuwait', \"Lao People's Democratic Republic\", 'Lebanon', 'Liberia', 'Sri Lanka', 'Lesotho', 'Lithuania', 'Luxembourg', 'Latvia', 'Macao', 'Morocco', 'Moldova, Republic of', 'Madagascar', 'Mexico', 'North Macedonia', 'Mali', 'Myanmar', 'Mongolia', 'Mauritania', 'Malawi', 'Malaysia', 'Namibia', 'Niger', 'Nigeria', 'Nicaragua', 'Netherlands', 'Nepal', 'New Zealand', 'Oman', 'Pakistan', 'Panama', 'Peru', 'Philippines', 'Papua New Guinea', 'Poland', 'Puerto Rico', \"Korea, Democratic People's Republic of\", 'Portugal', 'Paraguay', 'Qatar', 'Romania', 'Rwanda', 'Saudi Arabia', 'Sudan', 'Senegal', 'Singapore', 'Sierra Leone', 'El Salvador', 'San Marino', 'Somalia', 'Serbia', 'Suriname', 'Slovakia', 'Slovenia', 'Eswatini', 'Syrian Arab Republic', 'Turks and Caicos Islands', 'Chad', 'Togo', 'Thailand', 'Tajikistan', 'Turkmenistan', 'Tunisia', 'Turkey', 'Taiwan, Province of China', 'Tanzania, United Republic of', 'Uganda', 'Ukraine', 'Uruguay', 'Uzbekistan', 'Venezuela, Bolivarian Republic of', 'Viet Nam', 'Yemen', 'South Africa', 'Zambia', 'Zimbabwe', 'Russian Federation', 'United States'], 'country_iso3num': ['004', '024', '008', '020', '784', '032', '051', '036', '508', '028', '040', '031', '108', '204', '050', '100', '048', '044', '070', '112', '084', '068', '076', '096', '064', '072', '140', '124', '756', '152', '156', '120', '180', '178', '170', '188', '192', '196', '203', '276', '262', '212', '208', '214', '012', '218', '818', '232', '724', '233', '231', '246', '242', '250', '826', '268', '288', '324', '270', '624', '300', '320', '328', '344', '340', '191', '332', '348', '360', '833', '356', '372', '364', '368', '376', '380', '388', '400', '392', '398', '404', '417', '116', '410', '414', '418', '422', '430', '144', '426', '440', '442', '428', '446', '504', '498', '450', '484', '807', '466', '104', '496', '478', '454', '458', '516', '562', '566', '558', '528', '524', '554', '512', '586', '591', '604', '608', '598', '616', '630', '408', '620', '600', '634', '642', '646', '682', '729', '686', '702', '694', '222', '674', '706', '688', '740', '703', '705', '748', '760', '796', '148', '768', '764', '762', '795', '788', '792', '158', '834', '800', '804', '858', '860', '862', '704', '887', '710', '894', '716', '643', '840']}\n",
      "No data for PSE\n",
      "SDN\n",
      "SDN 27\n",
      "SYR\n",
      "SYR 13\n",
      "UKR\n",
      "UKR 23\n",
      "VEN\n",
      "VEN 17\n",
      "YEM\n",
      "YEM 2\n"
     ]
    }
   ],
   "source": [
    "from hdx_scraper_climada.utilities import read_countries\n",
    "countries = read_countries()\n",
    "\n",
    "for country in countries:\n",
    "    # if country[\"iso3alpha_country_code\"] in [\"BFA\", \"CMR\", \"COL\", \"COD\"]:\n",
    "    #     print(f\"Skipping {country['iso3alpha_country_code']} because there is no data\")\n",
    "    #     continue\n",
    "    print(country[\"iso3alpha_country_code\"], flush=True)\n",
    "    try:\n",
    "        flood = client.get_hazard(\"flood\", properties={\n",
    "                            \"country_iso3alpha\": country[\"iso3alpha_country_code\"],\n",
    "                        })\n",
    "        print(country[\"iso3alpha_country_code\"], len(flood.date), flush=True)\n",
    "    except Exception as e:\n",
    "        print(e, flush=True)\n",
    "        print(f\"No data for {country['iso3alpha_country_code']}\", flush=True)\n",
    "    \n",
    "    "
   ]
  },
  {
   "cell_type": "code",
   "execution_count": 11,
   "metadata": {},
   "outputs": [],
   "source": [
    "from pathlib import Path\n",
    "Client.purge_cache_db(Path('C:\\\\Users\\\\ianho\\\\climada\\\\data\\\\hazard\\\\flood\\\\flood_NER\\\\v1\\\\flood_NER.hdf5'))\n",
    "flood = client.get_hazard(\"flood\", properties={\n",
    "                            \"country_iso3alpha\": \"NER\",\n",
    "                        })"
   ]
  }
 ],
 "metadata": {
  "kernelspec": {
   "display_name": "venv",
   "language": "python",
   "name": "python3"
  },
  "language_info": {
   "codemirror_mode": {
    "name": "ipython",
    "version": 3
   },
   "file_extension": ".py",
   "mimetype": "text/x-python",
   "name": "python",
   "nbconvert_exporter": "python",
   "pygments_lexer": "ipython3",
   "version": "3.11.3"
  }
 },
 "nbformat": 4,
 "nbformat_minor": 2
}
