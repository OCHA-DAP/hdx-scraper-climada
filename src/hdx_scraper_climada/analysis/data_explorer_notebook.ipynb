{
 "cells": [
  {
   "cell_type": "markdown",
   "metadata": {},
   "source": [
    "# Climada HDX Dataset explorer\n",
    "\n",
    "The aim of this Jupyter Notebook is to provide an easy way to visualise the datasets provided by\n",
    "CLIMADA in the [Humanitarian Data Exchange](https://data.humdata.org/organization/eth-zurich-weather-and-climate-risks). It accesses data found in the directory `../output/` relative to this notebook.\n",
    "\n",
    "Ian Hopkinson\n",
    "\n",
    "2024-02-12"
   ]
  },
  {
   "cell_type": "code",
   "execution_count": null,
   "metadata": {},
   "outputs": [],
   "source": [
    "# Collected imports\n",
    "%load_ext autoreload\n",
    "%autoreload 2\n",
    "from hdx_scraper_climada.jupyter_utilities import plot_detail_file_map, plot_histogram, plot_timeseries_histogram, plot_admin_boundaries, plot_timeseries_chloropleth, plot_summary_barcharts\n",
    "from hdx_scraper_climada.utilities import read_countries, INDICATOR_LIST, HAS_TIMESERIES"
   ]
  },
  {
   "cell_type": "code",
   "execution_count": null,
   "metadata": {},
   "outputs": [],
   "source": [
    "# List countries and indicators\n",
    "print(f\"{len(INDICATOR_LIST)} available indicators:\", flush=True)\n",
    "for indicator in INDICATOR_LIST:\n",
    "    print(indicator, flush=True)\n",
    "\n",
    "countries = read_countries()\n",
    "print(f\"\\nData for {len(countries)} countries available\")\n",
    "for i, country in enumerate(countries, start=1):\n",
    "    print(f\"{i:2d}. {country['country_name']} ({country['iso3alpha_country_code']})\", flush=True)\n",
    "\n",
    "print(f\"\\n{len(HAS_TIMESERIES)} indicators with time series data\", flush=True)\n",
    "for indicator in HAS_TIMESERIES:\n",
    "    print(indicator, flush=True)\n",
    "\n"
   ]
  },
  {
   "cell_type": "code",
   "execution_count": null,
   "metadata": {},
   "outputs": [],
   "source": [
    "# Select country and indicator\n",
    "indicator = \"earthquake\"\n",
    "country =  \"Afghanistan\"\n",
    "\n",
    "# This uses the summary data and shows data for all countries\n",
    "plot_summary_barcharts(None, indicator)\n",
    "# # \n",
    "# plot_admin_boundaries(country)\n",
    "# This shows a histogram of the gridded (detail) values for a country\n",
    "plot_histogram(country, indicator)\n",
    "# A plot of the gridded (detail) data coloured by admin1, markers sized by value - this doesn't work great\n",
    "plot_detail_file_map(country, indicator)\n",
    "# This shows a histogram of the timeseries data\n",
    "plot_timeseries_histogram(country, indicator)\n",
    "# A plot of the data for a single event from the timeseries data as a map\n",
    "plot_timeseries_chloropleth(country, indicator, event_idx=None)\n",
    "\n",
    "\n",
    "\n",
    "# This will plot all datasets but it upsets Jupyter Notebooks on VSCode\n",
    "# for country_dict in countries:\n",
    "#     country = country_dict[\"country_name\"]\n",
    "#     print(country, flush=True)\n",
    "#     plot_admin_boundaries(country)\n",
    "#     plot_detail_file_map(country, indicator)\n",
    "#     # A histogram of values would be nice\n",
    "#     plot_histogram(country, indicator)\n",
    "#     # A plot of the gridded data coloured by admin1, markers sized by value - this doesn't work great\n",
    "#     plot_detail_file_map(country, indicator)\n",
    "#     plot_timeseries_histogram(country, indicator)\n",
    "#     plot_timeseries_chloropleth(country, indicator, event_idx=-2)\n"
   ]
  }
 ],
 "metadata": {
  "kernelspec": {
   "display_name": "venv",
   "language": "python",
   "name": "python3"
  },
  "language_info": {
   "codemirror_mode": {
    "name": "ipython",
    "version": 3
   },
   "file_extension": ".py",
   "mimetype": "text/x-python",
   "name": "python",
   "nbconvert_exporter": "python",
   "pygments_lexer": "ipython3",
   "version": "3.11.3"
  }
 },
 "nbformat": 4,
 "nbformat_minor": 2
}
