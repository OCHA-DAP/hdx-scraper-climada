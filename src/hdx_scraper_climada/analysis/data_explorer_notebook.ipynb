{
 "cells": [
  {
   "cell_type": "markdown",
   "metadata": {},
   "source": [
    "# Climada HDX Dataset explorer\n",
    "\n",
    "The aim of this Jupyter Notebook is to provide an easy way to visualise the datasets provided by\n",
    "CLIMADA in the [Humanitarian Data Exchange](https://data.humdata.org/organization/eth-zurich-weather-and-climate-risks). It accesses data found in the directory `../output/` relative to this notebook.\n",
    "\n",
    "Ian Hopkinson\n",
    "\n",
    "2024-02-12"
   ]
  },
  {
   "cell_type": "code",
   "execution_count": null,
   "metadata": {},
   "outputs": [],
   "source": [
    "# Collected imports\n",
    "%load_ext autoreload\n",
    "%autoreload 2\n",
    "from hdx_scraper_climada.jupyter_utilities import plot_detail_file_map\n",
    "from hdx_scraper_climada.utilities import read_countries, INDICATOR_LIST, HAS_TIMESERIES"
   ]
  },
  {
   "cell_type": "code",
   "execution_count": null,
   "metadata": {},
   "outputs": [],
   "source": [
    "# List countries and indicators\n",
    "print(f\"{len(INDICATOR_LIST)} available indicators:\", flush=True)\n",
    "for indicator in INDICATOR_LIST:\n",
    "    print(indicator, flush=True)\n",
    "\n",
    "countries = read_countries()\n",
    "print(f\"\\nData for {len(countries)} countries available\")\n",
    "for i, country in enumerate(countries, start=1):\n",
    "    print(f\"{i:2d}. {country['country_name']} ({country['iso3alpha_country_code']})\", flush=True)\n",
    "\n",
    "print(f\"\\n{len(HAS_TIMESERIES)} indicators with time series data\", flush=True)\n",
    "for indicator in HAS_TIMESERIES:\n",
    "    print(indicator, flush=True)\n",
    "\n"
   ]
  },
  {
   "cell_type": "code",
   "execution_count": null,
   "metadata": {},
   "outputs": [],
   "source": [
    "# Select country and indicator\n",
    "indicator = \"litpop\"\n",
    "for country in countries:\n",
    "    print(country[\"country_name\"], flush=True)\n",
    "    plot_detail_file_map(country[\"country_name\"], indicator)"
   ]
  }
 ],
 "metadata": {
  "kernelspec": {
   "display_name": "venv",
   "language": "python",
   "name": "python3"
  },
  "language_info": {
   "codemirror_mode": {
    "name": "ipython",
    "version": 3
   },
   "file_extension": ".py",
   "mimetype": "text/x-python",
   "name": "python",
   "nbconvert_exporter": "python",
   "pygments_lexer": "ipython3",
   "version": "3.11.3"
  }
 },
 "nbformat": 4,
 "nbformat_minor": 2
}
