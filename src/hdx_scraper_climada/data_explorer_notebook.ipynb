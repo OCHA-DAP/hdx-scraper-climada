{
 "cells": [
  {
   "cell_type": "code",
   "execution_count": 1,
   "metadata": {},
   "outputs": [],
   "source": [
    "import pandas as pd\n",
    "import plotly.express as px"
   ]
  },
  {
   "cell_type": "markdown",
   "metadata": {},
   "source": [
    "Maybe plotly will be better:\n",
    "https://towardsdatascience.com/meet-plotly-mapbox-best-choice-for-geographic-data-visualization-599b514bcd9a"
   ]
  },
  {
   "cell_type": "code",
   "execution_count": 2,
   "metadata": {},
   "outputs": [],
   "source": [
    "country_data = pd.read_csv(\"output/litpop/afghanistan-admin1-litpop.csv\")\n",
    "country_data.drop(country_data.head(1).index, inplace=True)\n",
    "country_data[\"latitude\"] = country_data[\"latitude\"].astype(float)\n",
    "country_data[\"longitude\"] = country_data[\"longitude\"].astype(float)\n",
    "country_data[\"value\"] = country_data[\"value\"].astype(float)\n",
    "country_data[\"value\"] = 0.1 + 10.0* country_data[\"value\"]/max(country_data[\"value\"])\n",
    "# country_data[\"value\"] = country_data[\"value\"].apply(math.log10)\n"
   ]
  },
  {
   "cell_type": "code",
   "execution_count": null,
   "metadata": {},
   "outputs": [],
   "source": [
    "fig = px.scatter_mapbox(country_data, \n",
    "                        lat=\"latitude\", lon=\"longitude\", color=\"region_name\",\n",
    "                        size=\"value\", size_max=20, \n",
    "                        zoom=6, opacity=0.5, \n",
    "                         mapbox_style='carto-darkmatter',\n",
    "\n",
    "                         width=800, height=800)\n",
    "fig.show()"
   ]
  }
 ],
 "metadata": {
  "kernelspec": {
   "display_name": "venv",
   "language": "python",
   "name": "python3"
  },
  "language_info": {
   "codemirror_mode": {
    "name": "ipython",
    "version": 3
   },
   "file_extension": ".py",
   "mimetype": "text/x-python",
   "name": "python",
   "nbconvert_exporter": "python",
   "pygments_lexer": "ipython3",
   "version": "3.11.3"
  }
 },
 "nbformat": 4,
 "nbformat_minor": 2
}
